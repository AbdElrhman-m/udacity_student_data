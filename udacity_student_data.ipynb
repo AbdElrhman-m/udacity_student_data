{
 "cells": [
  {
   "cell_type": "code",
   "execution_count": 1,
   "metadata": {},
   "outputs": [],
   "source": [
    "# activating the debugger\n",
    "#%pdb\n"
   ]
  },
  {
   "cell_type": "code",
   "execution_count": 2,
   "metadata": {},
   "outputs": [],
   "source": [
    "# necessary backages\n",
    "import unicodecsv\n",
    "import numpy as np\n",
    "from datetime import datetime as dt\n",
    "from collections import defaultdict # allows you to specify default value\n"
   ]
  },
  {
   "cell_type": "code",
   "execution_count": 3,
   "metadata": {},
   "outputs": [
    {
     "name": "stdout",
     "output_type": "stream",
     "text": [
      "{u'lesson_key': u'3176718735', u'processing_state': u'EVALUATED', u'account_key': u'256', u'assigned_rating': u'UNGRADED', u'completion_date': u'2015-01-16', u'creation_date': u'2015-01-14'}\n",
      "{u'lessons_completed': u'0.0', u'num_courses_visited': u'1.0', u'total_minutes_visited': u'11.6793745', u'projects_completed': u'0.0', u'acct': u'0', u'utc_date': u'2015-01-09'}\n"
     ]
    }
   ],
   "source": [
    "def read_csv(file_path):\n",
    "    'takes a path of csv file and retuns list it converted to a list'\n",
    "    with open(file_path, 'rb') as f:\n",
    "        reader = unicodecsv.DictReader(f)\n",
    "        return list(reader)\n",
    "enrollments =  read_csv('../../enrollments.csv')   \n",
    "daily_engagement =  read_csv('../../daily_engagement.csv')\n",
    "project_submissions  = read_csv('../../project_submissions.csv')\n",
    "\n",
    "print project_submissions[0]\n",
    "print daily_engagement[0]"
   ]
  },
  {
   "cell_type": "code",
   "execution_count": 4,
   "metadata": {},
   "outputs": [
    {
     "data": {
      "text/plain": [
       "{u'account_key': u'448',\n",
       " u'cancel_date': datetime.datetime(2015, 1, 14, 0, 0),\n",
       " u'days_to_cancel': 65,\n",
       " u'is_canceled': True,\n",
       " u'is_udacity': True,\n",
       " u'join_date': datetime.datetime(2014, 11, 10, 0, 0),\n",
       " u'status': u'canceled'}"
      ]
     },
     "execution_count": 4,
     "metadata": {},
     "output_type": "execute_result"
    }
   ],
   "source": [
    "# Takes a date as a string, and returns a Python datetime object. \n",
    "# If there is no date given, returns None\n",
    "def parse_date(date):\n",
    "    if date == '':\n",
    "        return None\n",
    "    else:\n",
    "        return dt.strptime(date, '%Y-%m-%d')\n",
    "    \n",
    "# Takes a string which is either an empty string or represents an integer,\n",
    "# and returns an int or None.\n",
    "def parse_maybe_int(i):\n",
    "    if i == '':\n",
    "        return None\n",
    "    else:\n",
    "        return int(i)\n",
    "\n",
    "# Clean up the data types in the enrollments table\n",
    "for enrollment in enrollments:\n",
    "    enrollment['cancel_date'] = parse_date(enrollment['cancel_date'])\n",
    "    enrollment['days_to_cancel'] = parse_maybe_int(enrollment['days_to_cancel'])\n",
    "    enrollment['is_canceled'] = enrollment['is_canceled'] == 'True'\n",
    "    enrollment['is_udacity'] = enrollment['is_udacity'] == 'True'\n",
    "    enrollment['join_date'] = parse_date(enrollment['join_date'])\n",
    "    \n",
    "enrollments[0]"
   ]
  },
  {
   "cell_type": "code",
   "execution_count": 5,
   "metadata": {},
   "outputs": [
    {
     "data": {
      "text/plain": [
       "{u'acct': u'0',\n",
       " u'lessons_completed': 0,\n",
       " u'num_courses_visited': 1,\n",
       " u'projects_completed': 0,\n",
       " u'total_minutes_visited': 11.6793745,\n",
       " u'utc_date': datetime.datetime(2015, 1, 9, 0, 0)}"
      ]
     },
     "execution_count": 5,
     "metadata": {},
     "output_type": "execute_result"
    }
   ],
   "source": [
    "# Clean up the data types in the engagement table\n",
    "for engagement_record in daily_engagement:\n",
    "    engagement_record['lessons_completed'] = int(float(engagement_record['lessons_completed']))\n",
    "    engagement_record['num_courses_visited'] = int(float(engagement_record['num_courses_visited']))\n",
    "    engagement_record['projects_completed'] = int(float(engagement_record['projects_completed']))\n",
    "    engagement_record['total_minutes_visited'] = float(engagement_record['total_minutes_visited'])\n",
    "    engagement_record['utc_date'] = parse_date(engagement_record['utc_date'])\n",
    "    \n",
    "daily_engagement[0]"
   ]
  },
  {
   "cell_type": "code",
   "execution_count": 6,
   "metadata": {},
   "outputs": [
    {
     "data": {
      "text/plain": [
       "{u'account_key': u'256',\n",
       " u'assigned_rating': u'UNGRADED',\n",
       " u'completion_date': datetime.datetime(2015, 1, 16, 0, 0),\n",
       " u'creation_date': datetime.datetime(2015, 1, 14, 0, 0),\n",
       " u'lesson_key': u'3176718735',\n",
       " u'processing_state': u'EVALUATED'}"
      ]
     },
     "execution_count": 6,
     "metadata": {},
     "output_type": "execute_result"
    }
   ],
   "source": [
    "# Clean up the data types in the submissions table\n",
    "for submission in project_submissions:\n",
    "    submission['completion_date'] = parse_date(submission['completion_date'])\n",
    "    submission['creation_date'] = parse_date(submission['creation_date'])\n",
    "\n",
    "project_submissions[0]"
   ]
  },
  {
   "cell_type": "code",
   "execution_count": 7,
   "metadata": {},
   "outputs": [
    {
     "data": {
      "text/plain": [
       "u'0'"
      ]
     },
     "execution_count": 7,
     "metadata": {},
     "output_type": "execute_result"
    }
   ],
   "source": [
    "for engagement_record in daily_engagement:\n",
    "    engagement_record['account_key'] = engagement_record['acct']\n",
    "    del(engagement_record['acct'])\n",
    "daily_engagement[0]['account_key']     "
   ]
  },
  {
   "cell_type": "code",
   "execution_count": 8,
   "metadata": {},
   "outputs": [],
   "source": [
    "def find_unique(table):\n",
    "    \"\"\"\n",
    "    inputs:\n",
    "        - table : list of dict.\n",
    "        - key :the primary key of the table\n",
    "    outputs: \n",
    "        the number of unquie keys\n",
    "    \n",
    "    \"\"\"\n",
    "    unique_set = set()\n",
    "    for e in table:\n",
    "        unique_set.add(e['account_key'])\n",
    "    return unique_set"
   ]
  },
  {
   "cell_type": "code",
   "execution_count": 9,
   "metadata": {},
   "outputs": [
    {
     "name": "stdout",
     "output_type": "stream",
     "text": [
      "1640\n",
      "1302\n"
     ]
    }
   ],
   "source": [
    "# the number of enrollments\n",
    "enrollment_num_rows = len(enrollments)            \n",
    "enrollment_num_unique_students = len(find_unique(enrollments))\n",
    "print enrollment_num_rows\n",
    "print enrollment_num_unique_students"
   ]
  },
  {
   "cell_type": "code",
   "execution_count": 10,
   "metadata": {},
   "outputs": [
    {
     "name": "stdout",
     "output_type": "stream",
     "text": [
      "136240\n",
      "1237\n"
     ]
    }
   ],
   "source": [
    "# the number of daily_engagement\n",
    "engagement_num_rows = len(daily_engagement)            # Replace this with your code\n",
    "engagement_num_unique_students = find_unique(daily_engagement)\n",
    "\n",
    "print engagement_num_rows\n",
    "print len(find_unique(daily_engagement))"
   ]
  },
  {
   "cell_type": "code",
   "execution_count": 11,
   "metadata": {},
   "outputs": [
    {
     "name": "stdout",
     "output_type": "stream",
     "text": [
      "3642\n",
      "743\n"
     ]
    }
   ],
   "source": [
    "# get the number of project_submissions\n",
    "submission_num_rows = len(project_submissions)\n",
    "submission_num_unique_students =  find_unique(project_submissions)\n",
    "print submission_num_rows\n",
    "print len(submission_num_unique_students)"
   ]
  },
  {
   "cell_type": "code",
   "execution_count": 12,
   "metadata": {},
   "outputs": [
    {
     "name": "stdout",
     "output_type": "stream",
     "text": [
      "71\n"
     ]
    }
   ],
   "source": [
    "only_in_enrollment = []\n",
    "for e in enrollments:\n",
    "    \n",
    "    student = e['account_key']\n",
    "    if student not in engagement_num_unique_students:\n",
    "        only_in_enrollment.append(enrollment)\n",
    "print len(only_in_enrollment)"
   ]
  },
  {
   "cell_type": "code",
   "execution_count": 13,
   "metadata": {},
   "outputs": [
    {
     "name": "stdout",
     "output_type": "stream",
     "text": [
      "3\n"
     ]
    }
   ],
   "source": [
    "not_a_day_enrollment = []\n",
    "for e in enrollments:\n",
    "    student = e['account_key']\n",
    "    if student not in engagement_num_unique_students and e[\"join_date\"] != e[\"cancel_date\"] :\n",
    "        not_a_day_enrollment.append(enrollment)\n",
    "print len(not_a_day_enrollment)"
   ]
  },
  {
   "cell_type": "code",
   "execution_count": 14,
   "metadata": {},
   "outputs": [
    {
     "data": {
      "text/plain": [
       "6"
      ]
     },
     "execution_count": 14,
     "metadata": {},
     "output_type": "execute_result"
    }
   ],
   "source": [
    "# Create a set of the account keys for all Udacity test accounts\n",
    "udacity_test_accounts = set()\n",
    "for enrollment in enrollments:\n",
    "    if enrollment['is_udacity']:\n",
    "        udacity_test_accounts.add(enrollment['account_key'])\n",
    "len(udacity_test_accounts)"
   ]
  },
  {
   "cell_type": "code",
   "execution_count": 15,
   "metadata": {},
   "outputs": [],
   "source": [
    "# Given some data with an account_key field, removes any records corresponding to Udacity test accounts\n",
    "def remove_udacity_accounts(data):\n",
    "    non_udacity_data = []\n",
    "    for data_point in data:\n",
    "        if data_point['account_key'] not in udacity_test_accounts:\n",
    "            non_udacity_data.append(data_point)\n",
    "    return non_udacity_data"
   ]
  },
  {
   "cell_type": "code",
   "execution_count": 16,
   "metadata": {},
   "outputs": [
    {
     "name": "stdout",
     "output_type": "stream",
     "text": [
      "1622\n",
      "135656\n",
      "3634\n"
     ]
    }
   ],
   "source": [
    "# Remove Udacity test accounts from all three tables\n",
    "non_udacity_enrollments = remove_udacity_accounts(enrollments)\n",
    "non_udacity_engagement = remove_udacity_accounts(daily_engagement)\n",
    "non_udacity_submissions = remove_udacity_accounts(project_submissions)\n",
    "\n",
    "print len(non_udacity_enrollments)\n",
    "print len(non_udacity_engagement)\n",
    "print len(non_udacity_submissions)"
   ]
  },
  {
   "cell_type": "code",
   "execution_count": 17,
   "metadata": {},
   "outputs": [
    {
     "name": "stdout",
     "output_type": "stream",
     "text": [
      "995\n"
     ]
    }
   ],
   "source": [
    "paid_students = {}\n",
    "for e in non_udacity_enrollments:\n",
    "    if not e[\"is_canceled\"] or e[\"days_to_cancel\"] > 7:\n",
    "        account_key = e['account_key']\n",
    "        enrollment_date = e['join_date']\n",
    "        if account_key not in paid_students or enrollment_date > paid_students[account_key]:\n",
    "            paid_students[account_key] = enrollment_date\n",
    "print len(paid_students)\n"
   ]
  },
  {
   "cell_type": "markdown",
   "metadata": {},
   "source": [
    "## Getting Data from First Week\n"
   ]
  },
  {
   "cell_type": "code",
   "execution_count": 18,
   "metadata": {},
   "outputs": [],
   "source": [
    "# Takes a student's join date and the date of a specific engagement record,\n",
    "# and returns True if that engagement record happened within one week\n",
    "# of the student joining.\n",
    "def within_one_week(join_date, engagement_date):\n",
    "    time_delta = engagement_date - join_date\n",
    "    return time_delta.days < 7 and time_delta.days >= 0"
   ]
  },
  {
   "cell_type": "code",
   "execution_count": 19,
   "metadata": {},
   "outputs": [],
   "source": [
    "def remove_free_trail_cancels(data):\n",
    "    new_data = []\n",
    "    for data_point in data:\n",
    "        if data_point['account_key'] in paid_students:\n",
    "            new_data.append(data_point)\n",
    "    return new_data"
   ]
  },
  {
   "cell_type": "code",
   "execution_count": 20,
   "metadata": {},
   "outputs": [
    {
     "name": "stdout",
     "output_type": "stream",
     "text": [
      "1293\n",
      "134549\n",
      "3618\n"
     ]
    }
   ],
   "source": [
    "paid_enrollments = remove_free_trail_cancels(non_udacity_enrollments)\n",
    "paid_engagement = remove_free_trail_cancels(non_udacity_engagement)\n",
    "paid_submissions = remove_free_trail_cancels(non_udacity_submissions)\n",
    "print len(paid_enrollments)\n",
    "print len(paid_engagement)\n",
    "print len(paid_submissions)"
   ]
  },
  {
   "cell_type": "code",
   "execution_count": 33,
   "metadata": {},
   "outputs": [],
   "source": [
    "# creating a new column for count the number of days student vist the classroom\n",
    "for rec in paid_engagement:\n",
    "    if rec['num_courses_visited'] > 0:\n",
    "        rec[\"has_visited\"] = 1\n",
    "    else:\n",
    "        rec[\"has_visited\"] = 1"
   ]
  },
  {
   "cell_type": "code",
   "execution_count": 34,
   "metadata": {},
   "outputs": [
    {
     "name": "stdout",
     "output_type": "stream",
     "text": [
      "6919\n"
     ]
    }
   ],
   "source": [
    "\n",
    "\n",
    "## Create a list of rows from the engagement table including only rows where\n",
    "## the student is one of the paid students you just found, and the date is within\n",
    "## one week of the student's join date.\n",
    "paid_engagement_in_first_week = []\n",
    "for e in paid_engagement:\n",
    "    account_key = e['account_key']\n",
    "    join_date = paid_students[account_key]\n",
    "    engagement_date = e['utc_date']\n",
    "\n",
    "    if within_one_week(join_date, engagement_date):\n",
    "        paid_engagement_in_first_week.append(e)\n",
    "print len(paid_engagement_in_first_week)"
   ]
  },
  {
   "cell_type": "markdown",
   "metadata": {},
   "source": [
    "print list(paid_students)[0]"
   ]
  },
  {
   "cell_type": "code",
   "execution_count": 35,
   "metadata": {},
   "outputs": [],
   "source": [
    "from collections import defaultdict # allows you to specify default value\n",
    "\n",
    "engagement_by_account = defaultdict(list)\n",
    "for engagment_record in paid_engagement_in_first_week:\n",
    "    account_key = engagment_record[\"account_key\"]\n",
    "    engagement_by_account[account_key].append(engagment_record)"
   ]
  },
  {
   "cell_type": "code",
   "execution_count": 36,
   "metadata": {},
   "outputs": [],
   "source": [
    "total_minutes_by_account = {}\n",
    "\n",
    "for account_key, engagement_for_student in engagement_by_account.items():\n",
    "    total_minutes = 0\n",
    "    for engagement_recored in engagement_for_student:\n",
    "        total_minutes += engagement_recored['total_minutes_visited']\n",
    "    total_minutes_by_account[account_key] = total_minutes"
   ]
  },
  {
   "cell_type": "code",
   "execution_count": 37,
   "metadata": {},
   "outputs": [
    {
     "name": "stdout",
     "output_type": "stream",
     "text": [
      "mean: 306.70832675342825\n",
      "std: 412.99693340852957\n",
      "min: 0.0\n",
      "max: 3564.7332644989997\n"
     ]
    }
   ],
   "source": [
    "total_minutes = total_minutes_by_account.values()  \n",
    "\n",
    "\n",
    "print \"mean:\", np.mean(total_minutes)\n",
    "print \"std:\", np.std(total_minutes)\n",
    "print \"min:\", np.min(total_minutes)\n",
    "print \"max:\", np.max(total_minutes)"
   ]
  },
  {
   "cell_type": "markdown",
   "metadata": {},
   "source": [
    "## Debugging Data Analysis Code"
   ]
  },
  {
   "cell_type": "code",
   "execution_count": 38,
   "metadata": {},
   "outputs": [
    {
     "name": "stdout",
     "output_type": "stream",
     "text": [
      "<built-in function max> 992\n"
     ]
    }
   ],
   "source": [
    "student_with_max_minutes = None\n",
    "max_minutes = 0\n",
    "\n",
    "for student, total_muintes in engagement_by_account.items():\n",
    "    if total_muintes > max_minutes:\n",
    "        max_minutes = total_muintes\n",
    "        student_with_max_minutes = student\n",
    "print max, student_with_max_minutes"
   ]
  },
  {
   "cell_type": "code",
   "execution_count": 39,
   "metadata": {},
   "outputs": [
    {
     "name": "stdout",
     "output_type": "stream",
     "text": [
      "{u'lessons_completed': 0, u'num_courses_visited': 3, 'has_visited': 1, u'total_minutes_visited': 39.0104288333, u'projects_completed': 0, 'account_key': u'992', u'utc_date': datetime.datetime(2015, 7, 17, 0, 0)}\n",
      "{u'lessons_completed': 0, u'num_courses_visited': 0, 'has_visited': 1, u'total_minutes_visited': 0.0, u'projects_completed': 0, 'account_key': u'992', u'utc_date': datetime.datetime(2015, 7, 18, 0, 0)}\n",
      "{u'lessons_completed': 0, u'num_courses_visited': 0, 'has_visited': 1, u'total_minutes_visited': 0.0, u'projects_completed': 0, 'account_key': u'992', u'utc_date': datetime.datetime(2015, 7, 19, 0, 0)}\n",
      "{u'lessons_completed': 0, u'num_courses_visited': 0, 'has_visited': 1, u'total_minutes_visited': 0.0, u'projects_completed': 0, 'account_key': u'992', u'utc_date': datetime.datetime(2015, 7, 20, 0, 0)}\n",
      "{u'lessons_completed': 0, u'num_courses_visited': 0, 'has_visited': 1, u'total_minutes_visited': 0.0, u'projects_completed': 0, 'account_key': u'992', u'utc_date': datetime.datetime(2015, 7, 21, 0, 0)}\n",
      "{u'lessons_completed': 0, u'num_courses_visited': 0, 'has_visited': 1, u'total_minutes_visited': 0.0, u'projects_completed': 0, 'account_key': u'992', u'utc_date': datetime.datetime(2015, 7, 22, 0, 0)}\n",
      "{u'lessons_completed': 0, u'num_courses_visited': 0, 'has_visited': 1, u'total_minutes_visited': 0.0, u'projects_completed': 0, 'account_key': u'992', u'utc_date': datetime.datetime(2015, 7, 23, 0, 0)}\n"
     ]
    }
   ],
   "source": [
    "#print each engagment_recored for the student\n",
    "for engagment_recored in paid_engagement_in_first_week:\n",
    "    if engagment_recored['account_key'] == student_with_max_minutes:\n",
    "        print engagment_recored"
   ]
  },
  {
   "cell_type": "code",
   "execution_count": 40,
   "metadata": {},
   "outputs": [],
   "source": [
    "def group_data(data, key_name=\"account_key\"):\n",
    "    \"\"\"takes data and return a dict mapping account key to list of records\"\"\"\n",
    "    grouped_data = defaultdict(list)\n",
    "    for data_point in data:\n",
    "        key = data_point[key_name]\n",
    "        grouped_data[key].append(data_point)\n",
    "    return grouped_data\n"
   ]
  },
  {
   "cell_type": "code",
   "execution_count": 41,
   "metadata": {},
   "outputs": [],
   "source": [
    "# lessons in week\n",
    "def sum_grouped_items(field_name, grouped_data, key_name=\"account_key\"):\n",
    "    \"\"\"some the data based on each account\"\"\"\n",
    "    summed_data = {}\n",
    "    \n",
    "    rec_by_account = group_data(grouped_data)\n",
    "    for key, data_points in rec_by_account.items():\n",
    "        total = 0\n",
    "        for data_point in data_points:\n",
    "            total += data_point[field_name]\n",
    "        summed_data[key] = total\n",
    "    return summed_data \n"
   ]
  },
  {
   "cell_type": "code",
   "execution_count": 45,
   "metadata": {
    "scrolled": true
   },
   "outputs": [],
   "source": [
    "def describe_data(field_name, grouped_data, key_name=\"account_key\"):\n",
    "    \"\"\"print the summary statistics of the data\"\"\"\n",
    "    data = sum_grouped_items(field_name, grouped_data)\n",
    "    total_rec = data.values()  \n",
    "    mean = np.mean(total_rec)\n",
    "    stand_dev = np.std(total_rec)\n",
    "    min_value = np.min(total_rec)\n",
    "    max_value = np.max(total_rec)\n",
    "    return mean, stand_dev, min_value,max_value\n"
   ]
  },
  {
   "cell_type": "code",
   "execution_count": 46,
   "metadata": {},
   "outputs": [
    {
     "name": "stdout",
     "output_type": "stream",
     "text": [
      "(1.636180904522613, 3.002561299829423, 0, 36)\n"
     ]
    }
   ],
   "source": [
    "#Lessons Completed in First Week\n",
    "\n",
    "print describe_data('lessons_completed',  paid_engagement_in_first_week)"
   ]
  },
  {
   "cell_type": "code",
   "execution_count": 47,
   "metadata": {},
   "outputs": [
    {
     "name": "stdout",
     "output_type": "stream",
     "text": [
      "(6.953768844221106, 0.3528396889020471, 1, 7)\n"
     ]
    }
   ],
   "source": [
    "#Number of Visits in the First Week\n",
    "print describe_data('has_visited',  paid_engagement_in_first_week)"
   ]
  },
  {
   "cell_type": "code",
   "execution_count": null,
   "metadata": {},
   "outputs": [],
   "source": []
  }
 ],
 "metadata": {
  "kernelspec": {
   "display_name": "Python 2",
   "language": "python",
   "name": "python2"
  },
  "language_info": {
   "codemirror_mode": {
    "name": "ipython",
    "version": 2
   },
   "file_extension": ".py",
   "mimetype": "text/x-python",
   "name": "python",
   "nbconvert_exporter": "python",
   "pygments_lexer": "ipython2",
   "version": "2.7.15"
  }
 },
 "nbformat": 4,
 "nbformat_minor": 2
}
